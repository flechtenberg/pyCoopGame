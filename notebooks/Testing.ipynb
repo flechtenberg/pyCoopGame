{
 "cells": [
  {
   "cell_type": "markdown",
   "id": "4a91536f",
   "metadata": {},
   "source": [
    "### Code testing"
   ]
  },
  {
   "cell_type": "markdown",
   "id": "73cf13b8",
   "metadata": {},
   "source": [
    "#### Import"
   ]
  },
  {
   "cell_type": "code",
   "execution_count": 1,
   "id": "fbb6684e",
   "metadata": {},
   "outputs": [],
   "source": [
    "import os\n",
    "import sys\n",
    "sys.path.append('..')\n",
    "import pandas as pd\n",
    "import pyCoopGame as pyCG"
   ]
  },
  {
   "cell_type": "markdown",
   "id": "b2e51bd6",
   "metadata": {},
   "source": [
    "### Create a random 3-player game"
   ]
  },
  {
   "cell_type": "code",
   "execution_count": 2,
   "id": "b869526c",
   "metadata": {},
   "outputs": [
    {
     "name": "stdout",
     "output_type": "stream",
     "text": [
      "The 3-player game has been created\n",
      "###############\n",
      "\n"
     ]
    }
   ],
   "source": [
    "game = pyCG.Create_game.create_game(n=3)"
   ]
  },
  {
   "cell_type": "code",
   "execution_count": 3,
   "id": "e3301436",
   "metadata": {},
   "outputs": [
    {
     "data": {
      "text/html": [
       "<div>\n",
       "<style scoped>\n",
       "    .dataframe tbody tr th:only-of-type {\n",
       "        vertical-align: middle;\n",
       "    }\n",
       "\n",
       "    .dataframe tbody tr th {\n",
       "        vertical-align: top;\n",
       "    }\n",
       "\n",
       "    .dataframe thead th {\n",
       "        text-align: right;\n",
       "    }\n",
       "</style>\n",
       "<table border=\"1\" class=\"dataframe\">\n",
       "  <thead>\n",
       "    <tr style=\"text-align: right;\">\n",
       "      <th></th>\n",
       "      <th>coalition</th>\n",
       "      <th>value</th>\n",
       "    </tr>\n",
       "  </thead>\n",
       "  <tbody>\n",
       "    <tr>\n",
       "      <th>0</th>\n",
       "      <td>[]</td>\n",
       "      <td>0.000000</td>\n",
       "    </tr>\n",
       "    <tr>\n",
       "      <th>1</th>\n",
       "      <td>[0]</td>\n",
       "      <td>0.000000</td>\n",
       "    </tr>\n",
       "    <tr>\n",
       "      <th>2</th>\n",
       "      <td>[1]</td>\n",
       "      <td>0.000000</td>\n",
       "    </tr>\n",
       "    <tr>\n",
       "      <th>3</th>\n",
       "      <td>[2]</td>\n",
       "      <td>0.000000</td>\n",
       "    </tr>\n",
       "    <tr>\n",
       "      <th>4</th>\n",
       "      <td>[0, 1]</td>\n",
       "      <td>0.656630</td>\n",
       "    </tr>\n",
       "    <tr>\n",
       "      <th>5</th>\n",
       "      <td>[0, 2]</td>\n",
       "      <td>0.057459</td>\n",
       "    </tr>\n",
       "    <tr>\n",
       "      <th>6</th>\n",
       "      <td>[1, 2]</td>\n",
       "      <td>0.044214</td>\n",
       "    </tr>\n",
       "    <tr>\n",
       "      <th>7</th>\n",
       "      <td>[0, 1, 2]</td>\n",
       "      <td>1.570233</td>\n",
       "    </tr>\n",
       "  </tbody>\n",
       "</table>\n",
       "</div>"
      ],
      "text/plain": [
       "   coalition     value\n",
       "0         []  0.000000\n",
       "1        [0]  0.000000\n",
       "2        [1]  0.000000\n",
       "3        [2]  0.000000\n",
       "4     [0, 1]  0.656630\n",
       "5     [0, 2]  0.057459\n",
       "6     [1, 2]  0.044214\n",
       "7  [0, 1, 2]  1.570233"
      ]
     },
     "execution_count": 3,
     "metadata": {},
     "output_type": "execute_result"
    }
   ],
   "source": [
    "game"
   ]
  },
  {
   "cell_type": "markdown",
   "id": "7c8f529a",
   "metadata": {},
   "source": [
    "#### Validate the game"
   ]
  },
  {
   "cell_type": "code",
   "execution_count": 4,
   "id": "8ed6cbed",
   "metadata": {},
   "outputs": [
    {
     "name": "stdout",
     "output_type": "stream",
     "text": [
      "The passed dataframe has the correct columns\n",
      "\n",
      "The indices have the correct type (int)\n",
      "\n",
      "The coalitions have the correct type (list)\n",
      "\n",
      "The values have the correct type (float)\n",
      "\n",
      "The number of coalitions (8) correctly matches the number of individual players in the game (3)\n",
      "\n",
      "The value of the empty coalition is 0\n",
      "\n",
      "The value of the grand coalition is the maximum\n",
      "\n"
     ]
    }
   ],
   "source": [
    "pyCG.Validate_game.validate(game)"
   ]
  },
  {
   "cell_type": "markdown",
   "id": "e4105e3e",
   "metadata": {},
   "source": [
    "#### Check if the core is empty"
   ]
  },
  {
   "cell_type": "code",
   "execution_count": 5,
   "id": "f37233a4",
   "metadata": {},
   "outputs": [
    {
     "name": "stdout",
     "output_type": "stream",
     "text": [
      "The set of core allocations is NOT EMPTY\n",
      "\n"
     ]
    }
   ],
   "source": [
    "exists = pyCG.Core.core_exists(game)"
   ]
  },
  {
   "cell_type": "markdown",
   "id": "fbe9b3c3",
   "metadata": {},
   "source": [
    "#### Calculate the Shapley, Nucleolus, CostGap, and epsilon-Core"
   ]
  },
  {
   "cell_type": "markdown",
   "id": "744ad7ff",
   "metadata": {},
   "source": [
    "If glpk does not work, it can be installed in-line here via:\n",
    "\n",
    "!conda install --yes -c conda-forge ipopt glpk"
   ]
  },
  {
   "cell_type": "code",
   "execution_count": 6,
   "id": "fa462e61",
   "metadata": {},
   "outputs": [
    {
     "name": "stdout",
     "output_type": "stream",
     "text": [
      "Shapley value properly calculated\n",
      "\n",
      "Nucleolus properly calculated\n",
      "\n"
     ]
    },
    {
     "ename": "TypeError",
     "evalue": "'float' object is not iterable",
     "output_type": "error",
     "traceback": [
      "\u001b[1;31m---------------------------------------------------------------------------\u001b[0m",
      "\u001b[1;31mTypeError\u001b[0m                                 Traceback (most recent call last)",
      "Cell \u001b[1;32mIn[6], line 3\u001b[0m\n\u001b[0;32m      1\u001b[0m shapley \u001b[38;5;241m=\u001b[39m pyCG\u001b[38;5;241m.\u001b[39mShapley\u001b[38;5;241m.\u001b[39mShapley(game)\n\u001b[0;32m      2\u001b[0m nucleolus \u001b[38;5;241m=\u001b[39m pyCG\u001b[38;5;241m.\u001b[39mNucleolus\u001b[38;5;241m.\u001b[39mnucleolus(game)\n\u001b[1;32m----> 3\u001b[0m tau \u001b[38;5;241m=\u001b[39m \u001b[43mpyCG\u001b[49m\u001b[38;5;241;43m.\u001b[39;49m\u001b[43mCostGap\u001b[49m\u001b[38;5;241;43m.\u001b[39;49m\u001b[43mtauvalue\u001b[49m\u001b[43m(\u001b[49m\u001b[43mgame\u001b[49m\u001b[43m)\u001b[49m\n\u001b[0;32m      4\u001b[0m epsilon \u001b[38;5;241m=\u001b[39m pyCG\u001b[38;5;241m.\u001b[39mCore\u001b[38;5;241m.\u001b[39mleast_core(game)\n",
      "File \u001b[1;32m~\\Documents\\PhD Documents\\Python\\pyCoopGame\\notebooks\\..\\pyCoopGame\\CostGap.py:25\u001b[0m, in \u001b[0;36mtauvalue\u001b[1;34m(game)\u001b[0m\n\u001b[0;32m     22\u001b[0m Mi \u001b[38;5;241m=\u001b[39m {player: gc \u001b[38;5;241m-\u001b[39m game[\u001b[38;5;124m'\u001b[39m\u001b[38;5;124mvalue\u001b[39m\u001b[38;5;124m'\u001b[39m][game\u001b[38;5;241m.\u001b[39mindex\u001b[38;5;241m.\u001b[39mmap(\u001b[38;5;28;01mlambda\u001b[39;00m coal: player \u001b[38;5;129;01mnot\u001b[39;00m \u001b[38;5;129;01min\u001b[39;00m coal)] \u001b[38;5;28;01mfor\u001b[39;00m player \u001b[38;5;129;01min\u001b[39;00m players}\n\u001b[0;32m     24\u001b[0m \u001b[38;5;66;03m# Determine the minimum claim\u001b[39;00m\n\u001b[1;32m---> 25\u001b[0m mi \u001b[38;5;241m=\u001b[39m {player: \u001b[38;5;28mmax\u001b[39m(game[\u001b[38;5;124m'\u001b[39m\u001b[38;5;124mvalue\u001b[39m\u001b[38;5;124m'\u001b[39m][game\u001b[38;5;241m.\u001b[39mindex] \u001b[38;5;241m-\u001b[39m game[\u001b[38;5;124m'\u001b[39m\u001b[38;5;124mvalue\u001b[39m\u001b[38;5;124m'\u001b[39m]\u001b[38;5;241m.\u001b[39mapply(\u001b[38;5;28;01mlambda\u001b[39;00m x: \u001b[38;5;28msum\u001b[39m(Mi[p] \u001b[38;5;28;01mfor\u001b[39;00m p \u001b[38;5;129;01min\u001b[39;00m x \u001b[38;5;28;01mif\u001b[39;00m p \u001b[38;5;241m!=\u001b[39m player))) \u001b[38;5;28;01mfor\u001b[39;00m player \u001b[38;5;129;01min\u001b[39;00m players}\n\u001b[0;32m     27\u001b[0m \u001b[38;5;66;03m# Determine alpha\u001b[39;00m\n\u001b[0;32m     28\u001b[0m sum_mi \u001b[38;5;241m=\u001b[39m \u001b[38;5;28msum\u001b[39m(mi[player] \u001b[38;5;28;01mfor\u001b[39;00m player \u001b[38;5;129;01min\u001b[39;00m players)\n",
      "File \u001b[1;32m~\\Documents\\PhD Documents\\Python\\pyCoopGame\\notebooks\\..\\pyCoopGame\\CostGap.py:25\u001b[0m, in \u001b[0;36m<dictcomp>\u001b[1;34m(.0)\u001b[0m\n\u001b[0;32m     22\u001b[0m Mi \u001b[38;5;241m=\u001b[39m {player: gc \u001b[38;5;241m-\u001b[39m game[\u001b[38;5;124m'\u001b[39m\u001b[38;5;124mvalue\u001b[39m\u001b[38;5;124m'\u001b[39m][game\u001b[38;5;241m.\u001b[39mindex\u001b[38;5;241m.\u001b[39mmap(\u001b[38;5;28;01mlambda\u001b[39;00m coal: player \u001b[38;5;129;01mnot\u001b[39;00m \u001b[38;5;129;01min\u001b[39;00m coal)] \u001b[38;5;28;01mfor\u001b[39;00m player \u001b[38;5;129;01min\u001b[39;00m players}\n\u001b[0;32m     24\u001b[0m \u001b[38;5;66;03m# Determine the minimum claim\u001b[39;00m\n\u001b[1;32m---> 25\u001b[0m mi \u001b[38;5;241m=\u001b[39m {player: \u001b[38;5;28mmax\u001b[39m(game[\u001b[38;5;124m'\u001b[39m\u001b[38;5;124mvalue\u001b[39m\u001b[38;5;124m'\u001b[39m][game\u001b[38;5;241m.\u001b[39mindex] \u001b[38;5;241m-\u001b[39m \u001b[43mgame\u001b[49m\u001b[43m[\u001b[49m\u001b[38;5;124;43m'\u001b[39;49m\u001b[38;5;124;43mvalue\u001b[39;49m\u001b[38;5;124;43m'\u001b[39;49m\u001b[43m]\u001b[49m\u001b[38;5;241;43m.\u001b[39;49m\u001b[43mapply\u001b[49m\u001b[43m(\u001b[49m\u001b[38;5;28;43;01mlambda\u001b[39;49;00m\u001b[43m \u001b[49m\u001b[43mx\u001b[49m\u001b[43m:\u001b[49m\u001b[43m \u001b[49m\u001b[38;5;28;43msum\u001b[39;49m\u001b[43m(\u001b[49m\u001b[43mMi\u001b[49m\u001b[43m[\u001b[49m\u001b[43mp\u001b[49m\u001b[43m]\u001b[49m\u001b[43m \u001b[49m\u001b[38;5;28;43;01mfor\u001b[39;49;00m\u001b[43m \u001b[49m\u001b[43mp\u001b[49m\u001b[43m \u001b[49m\u001b[38;5;129;43;01min\u001b[39;49;00m\u001b[43m \u001b[49m\u001b[43mx\u001b[49m\u001b[43m \u001b[49m\u001b[38;5;28;43;01mif\u001b[39;49;00m\u001b[43m \u001b[49m\u001b[43mp\u001b[49m\u001b[43m \u001b[49m\u001b[38;5;241;43m!=\u001b[39;49m\u001b[43m \u001b[49m\u001b[43mplayer\u001b[49m\u001b[43m)\u001b[49m\u001b[43m)\u001b[49m) \u001b[38;5;28;01mfor\u001b[39;00m player \u001b[38;5;129;01min\u001b[39;00m players}\n\u001b[0;32m     27\u001b[0m \u001b[38;5;66;03m# Determine alpha\u001b[39;00m\n\u001b[0;32m     28\u001b[0m sum_mi \u001b[38;5;241m=\u001b[39m \u001b[38;5;28msum\u001b[39m(mi[player] \u001b[38;5;28;01mfor\u001b[39;00m player \u001b[38;5;129;01min\u001b[39;00m players)\n",
      "File \u001b[1;32m~\\miniconda3\\envs\\pyCoopGame\\lib\\site-packages\\pandas\\core\\series.py:4630\u001b[0m, in \u001b[0;36mSeries.apply\u001b[1;34m(self, func, convert_dtype, args, **kwargs)\u001b[0m\n\u001b[0;32m   4520\u001b[0m \u001b[38;5;28;01mdef\u001b[39;00m \u001b[38;5;21mapply\u001b[39m(\n\u001b[0;32m   4521\u001b[0m     \u001b[38;5;28mself\u001b[39m,\n\u001b[0;32m   4522\u001b[0m     func: AggFuncType,\n\u001b[1;32m   (...)\u001b[0m\n\u001b[0;32m   4525\u001b[0m     \u001b[38;5;241m*\u001b[39m\u001b[38;5;241m*\u001b[39mkwargs,\n\u001b[0;32m   4526\u001b[0m ) \u001b[38;5;241m-\u001b[39m\u001b[38;5;241m>\u001b[39m DataFrame \u001b[38;5;241m|\u001b[39m Series:\n\u001b[0;32m   4527\u001b[0m \u001b[38;5;250m    \u001b[39m\u001b[38;5;124;03m\"\"\"\u001b[39;00m\n\u001b[0;32m   4528\u001b[0m \u001b[38;5;124;03m    Invoke function on values of Series.\u001b[39;00m\n\u001b[0;32m   4529\u001b[0m \n\u001b[1;32m   (...)\u001b[0m\n\u001b[0;32m   4628\u001b[0m \u001b[38;5;124;03m    dtype: float64\u001b[39;00m\n\u001b[0;32m   4629\u001b[0m \u001b[38;5;124;03m    \"\"\"\u001b[39;00m\n\u001b[1;32m-> 4630\u001b[0m     \u001b[38;5;28;01mreturn\u001b[39;00m \u001b[43mSeriesApply\u001b[49m\u001b[43m(\u001b[49m\u001b[38;5;28;43mself\u001b[39;49m\u001b[43m,\u001b[49m\u001b[43m \u001b[49m\u001b[43mfunc\u001b[49m\u001b[43m,\u001b[49m\u001b[43m \u001b[49m\u001b[43mconvert_dtype\u001b[49m\u001b[43m,\u001b[49m\u001b[43m \u001b[49m\u001b[43margs\u001b[49m\u001b[43m,\u001b[49m\u001b[43m \u001b[49m\u001b[43mkwargs\u001b[49m\u001b[43m)\u001b[49m\u001b[38;5;241;43m.\u001b[39;49m\u001b[43mapply\u001b[49m\u001b[43m(\u001b[49m\u001b[43m)\u001b[49m\n",
      "File \u001b[1;32m~\\miniconda3\\envs\\pyCoopGame\\lib\\site-packages\\pandas\\core\\apply.py:1025\u001b[0m, in \u001b[0;36mSeriesApply.apply\u001b[1;34m(self)\u001b[0m\n\u001b[0;32m   1022\u001b[0m     \u001b[38;5;28;01mreturn\u001b[39;00m \u001b[38;5;28mself\u001b[39m\u001b[38;5;241m.\u001b[39mapply_str()\n\u001b[0;32m   1024\u001b[0m \u001b[38;5;66;03m# self.f is Callable\u001b[39;00m\n\u001b[1;32m-> 1025\u001b[0m \u001b[38;5;28;01mreturn\u001b[39;00m \u001b[38;5;28;43mself\u001b[39;49m\u001b[38;5;241;43m.\u001b[39;49m\u001b[43mapply_standard\u001b[49m\u001b[43m(\u001b[49m\u001b[43m)\u001b[49m\n",
      "File \u001b[1;32m~\\miniconda3\\envs\\pyCoopGame\\lib\\site-packages\\pandas\\core\\apply.py:1076\u001b[0m, in \u001b[0;36mSeriesApply.apply_standard\u001b[1;34m(self)\u001b[0m\n\u001b[0;32m   1074\u001b[0m     \u001b[38;5;28;01melse\u001b[39;00m:\n\u001b[0;32m   1075\u001b[0m         values \u001b[38;5;241m=\u001b[39m obj\u001b[38;5;241m.\u001b[39mastype(\u001b[38;5;28mobject\u001b[39m)\u001b[38;5;241m.\u001b[39m_values\n\u001b[1;32m-> 1076\u001b[0m         mapped \u001b[38;5;241m=\u001b[39m \u001b[43mlib\u001b[49m\u001b[38;5;241;43m.\u001b[39;49m\u001b[43mmap_infer\u001b[49m\u001b[43m(\u001b[49m\n\u001b[0;32m   1077\u001b[0m \u001b[43m            \u001b[49m\u001b[43mvalues\u001b[49m\u001b[43m,\u001b[49m\n\u001b[0;32m   1078\u001b[0m \u001b[43m            \u001b[49m\u001b[43mf\u001b[49m\u001b[43m,\u001b[49m\n\u001b[0;32m   1079\u001b[0m \u001b[43m            \u001b[49m\u001b[43mconvert\u001b[49m\u001b[38;5;241;43m=\u001b[39;49m\u001b[38;5;28;43mself\u001b[39;49m\u001b[38;5;241;43m.\u001b[39;49m\u001b[43mconvert_dtype\u001b[49m\u001b[43m,\u001b[49m\n\u001b[0;32m   1080\u001b[0m \u001b[43m        \u001b[49m\u001b[43m)\u001b[49m\n\u001b[0;32m   1082\u001b[0m \u001b[38;5;28;01mif\u001b[39;00m \u001b[38;5;28mlen\u001b[39m(mapped) \u001b[38;5;129;01mand\u001b[39;00m \u001b[38;5;28misinstance\u001b[39m(mapped[\u001b[38;5;241m0\u001b[39m], ABCSeries):\n\u001b[0;32m   1083\u001b[0m     \u001b[38;5;66;03m# GH#43986 Need to do list(mapped) in order to get treated as nested\u001b[39;00m\n\u001b[0;32m   1084\u001b[0m     \u001b[38;5;66;03m#  See also GH#25959 regarding EA support\u001b[39;00m\n\u001b[0;32m   1085\u001b[0m     \u001b[38;5;28;01mreturn\u001b[39;00m obj\u001b[38;5;241m.\u001b[39m_constructor_expanddim(\u001b[38;5;28mlist\u001b[39m(mapped), index\u001b[38;5;241m=\u001b[39mobj\u001b[38;5;241m.\u001b[39mindex)\n",
      "File \u001b[1;32m~\\miniconda3\\envs\\pyCoopGame\\lib\\site-packages\\pandas\\_libs\\lib.pyx:2834\u001b[0m, in \u001b[0;36mpandas._libs.lib.map_infer\u001b[1;34m()\u001b[0m\n",
      "File \u001b[1;32m~\\Documents\\PhD Documents\\Python\\pyCoopGame\\notebooks\\..\\pyCoopGame\\CostGap.py:25\u001b[0m, in \u001b[0;36mtauvalue.<locals>.<lambda>\u001b[1;34m(x)\u001b[0m\n\u001b[0;32m     22\u001b[0m Mi \u001b[38;5;241m=\u001b[39m {player: gc \u001b[38;5;241m-\u001b[39m game[\u001b[38;5;124m'\u001b[39m\u001b[38;5;124mvalue\u001b[39m\u001b[38;5;124m'\u001b[39m][game\u001b[38;5;241m.\u001b[39mindex\u001b[38;5;241m.\u001b[39mmap(\u001b[38;5;28;01mlambda\u001b[39;00m coal: player \u001b[38;5;129;01mnot\u001b[39;00m \u001b[38;5;129;01min\u001b[39;00m coal)] \u001b[38;5;28;01mfor\u001b[39;00m player \u001b[38;5;129;01min\u001b[39;00m players}\n\u001b[0;32m     24\u001b[0m \u001b[38;5;66;03m# Determine the minimum claim\u001b[39;00m\n\u001b[1;32m---> 25\u001b[0m mi \u001b[38;5;241m=\u001b[39m {player: \u001b[38;5;28mmax\u001b[39m(game[\u001b[38;5;124m'\u001b[39m\u001b[38;5;124mvalue\u001b[39m\u001b[38;5;124m'\u001b[39m][game\u001b[38;5;241m.\u001b[39mindex] \u001b[38;5;241m-\u001b[39m game[\u001b[38;5;124m'\u001b[39m\u001b[38;5;124mvalue\u001b[39m\u001b[38;5;124m'\u001b[39m]\u001b[38;5;241m.\u001b[39mapply(\u001b[38;5;28;01mlambda\u001b[39;00m x: \u001b[38;5;28msum\u001b[39m(Mi[p] \u001b[38;5;28;01mfor\u001b[39;00m p \u001b[38;5;129;01min\u001b[39;00m x \u001b[38;5;28;01mif\u001b[39;00m p \u001b[38;5;241m!=\u001b[39m player))) \u001b[38;5;28;01mfor\u001b[39;00m player \u001b[38;5;129;01min\u001b[39;00m players}\n\u001b[0;32m     27\u001b[0m \u001b[38;5;66;03m# Determine alpha\u001b[39;00m\n\u001b[0;32m     28\u001b[0m sum_mi \u001b[38;5;241m=\u001b[39m \u001b[38;5;28msum\u001b[39m(mi[player] \u001b[38;5;28;01mfor\u001b[39;00m player \u001b[38;5;129;01min\u001b[39;00m players)\n",
      "\u001b[1;31mTypeError\u001b[0m: 'float' object is not iterable"
     ]
    }
   ],
   "source": [
    "shapley = pyCG.Shapley.Shapley(game)\n",
    "nucleolus = pyCG.Nucleolus.nucleolus(game)\n",
    "tau = pyCG.CostGap.tauvalue(game)\n",
    "epsilon = pyCG.Core.least_core(game)"
   ]
  },
  {
   "cell_type": "code",
   "execution_count": null,
   "id": "8a003f3b",
   "metadata": {},
   "outputs": [],
   "source": [
    "data = pd.DataFrame({'Shapley': shapley, 'Nucleolus': nucleolus, 'Cost Gap': tau, 'Least Core': epsilon})"
   ]
  },
  {
   "cell_type": "code",
   "execution_count": null,
   "id": "1d284b93",
   "metadata": {},
   "outputs": [],
   "source": [
    "data"
   ]
  },
  {
   "cell_type": "markdown",
   "id": "7460cf13",
   "metadata": {},
   "source": [
    "# Live Demonstration"
   ]
  },
  {
   "cell_type": "code",
   "execution_count": null,
   "id": "c3bcfdf1",
   "metadata": {},
   "outputs": [],
   "source": [
    "game['value'][4] = 200000"
   ]
  },
  {
   "cell_type": "code",
   "execution_count": null,
   "id": "e0f9c8f9",
   "metadata": {},
   "outputs": [],
   "source": [
    "game"
   ]
  }
 ],
 "metadata": {
  "kernelspec": {
   "display_name": "Python 3 (ipykernel)",
   "language": "python",
   "name": "python3"
  },
  "language_info": {
   "codemirror_mode": {
    "name": "ipython",
    "version": 3
   },
   "file_extension": ".py",
   "mimetype": "text/x-python",
   "name": "python",
   "nbconvert_exporter": "python",
   "pygments_lexer": "ipython3",
   "version": "3.9.16"
  }
 },
 "nbformat": 4,
 "nbformat_minor": 5
}
