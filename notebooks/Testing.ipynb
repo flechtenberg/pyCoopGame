{
 "cells": [
  {
   "cell_type": "markdown",
   "id": "4a91536f",
   "metadata": {},
   "source": [
    "### Code testing"
   ]
  },
  {
   "cell_type": "markdown",
   "id": "73cf13b8",
   "metadata": {},
   "source": [
    "#### Import"
   ]
  },
  {
   "cell_type": "code",
   "execution_count": 1,
   "id": "fbb6684e",
   "metadata": {},
   "outputs": [],
   "source": [
    "import os\n",
    "import sys\n",
    "sys.path.append('..')\n",
    "import pandas as pd\n",
    "import pyCoopGame as pyCG"
   ]
  },
  {
   "cell_type": "markdown",
   "id": "b2e51bd6",
   "metadata": {},
   "source": [
    "### Create a random 3-player game"
   ]
  },
  {
   "cell_type": "code",
   "execution_count": 2,
   "id": "b869526c",
   "metadata": {},
   "outputs": [
    {
     "name": "stdout",
     "output_type": "stream",
     "text": [
      "The 3-player game has been created\n",
      "###############\n",
      "\n"
     ]
    }
   ],
   "source": [
    "game = pyCG.Create_game.create_game(n=3)"
   ]
  },
  {
   "cell_type": "code",
   "execution_count": 3,
   "id": "e3301436",
   "metadata": {},
   "outputs": [
    {
     "data": {
      "text/html": [
       "<div>\n",
       "<style scoped>\n",
       "    .dataframe tbody tr th:only-of-type {\n",
       "        vertical-align: middle;\n",
       "    }\n",
       "\n",
       "    .dataframe tbody tr th {\n",
       "        vertical-align: top;\n",
       "    }\n",
       "\n",
       "    .dataframe thead th {\n",
       "        text-align: right;\n",
       "    }\n",
       "</style>\n",
       "<table border=\"1\" class=\"dataframe\">\n",
       "  <thead>\n",
       "    <tr style=\"text-align: right;\">\n",
       "      <th></th>\n",
       "      <th>coalition</th>\n",
       "      <th>value</th>\n",
       "    </tr>\n",
       "  </thead>\n",
       "  <tbody>\n",
       "    <tr>\n",
       "      <th>0</th>\n",
       "      <td>[]</td>\n",
       "      <td>0.000000</td>\n",
       "    </tr>\n",
       "    <tr>\n",
       "      <th>1</th>\n",
       "      <td>[0]</td>\n",
       "      <td>0.000000</td>\n",
       "    </tr>\n",
       "    <tr>\n",
       "      <th>2</th>\n",
       "      <td>[1]</td>\n",
       "      <td>0.000000</td>\n",
       "    </tr>\n",
       "    <tr>\n",
       "      <th>3</th>\n",
       "      <td>[2]</td>\n",
       "      <td>0.000000</td>\n",
       "    </tr>\n",
       "    <tr>\n",
       "      <th>4</th>\n",
       "      <td>[0, 1]</td>\n",
       "      <td>0.119485</td>\n",
       "    </tr>\n",
       "    <tr>\n",
       "      <th>5</th>\n",
       "      <td>[0, 2]</td>\n",
       "      <td>0.647525</td>\n",
       "    </tr>\n",
       "    <tr>\n",
       "      <th>6</th>\n",
       "      <td>[1, 2]</td>\n",
       "      <td>0.631562</td>\n",
       "    </tr>\n",
       "    <tr>\n",
       "      <th>7</th>\n",
       "      <td>[0, 1, 2]</td>\n",
       "      <td>0.728023</td>\n",
       "    </tr>\n",
       "  </tbody>\n",
       "</table>\n",
       "</div>"
      ],
      "text/plain": [
       "   coalition     value\n",
       "0         []  0.000000\n",
       "1        [0]  0.000000\n",
       "2        [1]  0.000000\n",
       "3        [2]  0.000000\n",
       "4     [0, 1]  0.119485\n",
       "5     [0, 2]  0.647525\n",
       "6     [1, 2]  0.631562\n",
       "7  [0, 1, 2]  0.728023"
      ]
     },
     "execution_count": 3,
     "metadata": {},
     "output_type": "execute_result"
    }
   ],
   "source": [
    "game"
   ]
  },
  {
   "cell_type": "markdown",
   "id": "7c8f529a",
   "metadata": {},
   "source": [
    "#### Validate the game"
   ]
  },
  {
   "cell_type": "code",
   "execution_count": 4,
   "id": "8ed6cbed",
   "metadata": {},
   "outputs": [
    {
     "name": "stdout",
     "output_type": "stream",
     "text": [
      "The passed dataframe has the correct columns\n",
      "\n",
      "The indices have the correct type (int)\n",
      "\n",
      "The coalitions have the correct type (list)\n",
      "\n",
      "The values have the correct type (float)\n",
      "\n",
      "The number of coalitions (8) correctly matches the number of individual players in the game (3)\n",
      "\n",
      "The value of the empty coalition is 0\n",
      "\n",
      "The value of the grand coalition is the maximum\n",
      "\n"
     ]
    }
   ],
   "source": [
    "pyCG.Validate_game.validate(game)"
   ]
  },
  {
   "cell_type": "markdown",
   "id": "e4105e3e",
   "metadata": {},
   "source": [
    "#### Check if the core is empty"
   ]
  },
  {
   "cell_type": "code",
   "execution_count": 5,
   "id": "f37233a4",
   "metadata": {},
   "outputs": [
    {
     "name": "stdout",
     "output_type": "stream",
     "text": [
      "{None: 0.7280226665824328}\n",
      "The set of core allocations is NOT EMPTY\n",
      "\n"
     ]
    },
    {
     "name": "stderr",
     "output_type": "stream",
     "text": [
      "C:\\Users\\Usuario\\Documents\\PhD Documents\\Python\\pyCoopGame\\notebooks\\..\\pyCoopGame\\Core.py:109: FutureWarning: Calling float on a single element Series is deprecated and will raise a TypeError in the future. Use float(ser.iloc[0]) instead\n",
      "  gc = {None: float(game['value'][GRAND_COAL])}\n"
     ]
    }
   ],
   "source": [
    "exists = pyCG.Core.core_exists(game)"
   ]
  },
  {
   "cell_type": "markdown",
   "id": "fbe9b3c3",
   "metadata": {},
   "source": [
    "#### Calculate the Shapley, Nucleolus, CostGap, and epsilon-Core"
   ]
  },
  {
   "cell_type": "markdown",
   "id": "744ad7ff",
   "metadata": {},
   "source": [
    "If glpk does not work, it can be installed in-line here via:\n",
    "\n",
    "!conda install --yes -c conda-forge ipopt glpk"
   ]
  },
  {
   "cell_type": "code",
   "execution_count": 6,
   "id": "fa462e61",
   "metadata": {},
   "outputs": [
    {
     "name": "stdout",
     "output_type": "stream",
     "text": [
      "Shapley value properly calculated\n",
      "\n",
      "Nucleolus properly calculated\n",
      "\n",
      "Tau Value properly calculated\n",
      "\n",
      "{None: 0.7280226665824328}\n",
      "The core is not empty and epsilon is -0.0191578472759288\n",
      "\n"
     ]
    },
    {
     "name": "stderr",
     "output_type": "stream",
     "text": [
      "C:\\Users\\Usuario\\Documents\\PhD Documents\\Python\\pyCoopGame\\notebooks\\..\\pyCoopGame\\Core.py:109: FutureWarning: Calling float on a single element Series is deprecated and will raise a TypeError in the future. Use float(ser.iloc[0]) instead\n",
      "  gc = {None: float(game['value'][GRAND_COAL])}\n"
     ]
    }
   ],
   "source": [
    "shapley = pyCG.Shapley.Shapley(game)\n",
    "nucleolus = pyCG.Nucleolus.nucleolus(game)\n",
    "tau = pyCG.CostGap.tauvalue(game)\n",
    "epsilon = pyCG.Core.least_core(game)"
   ]
  },
  {
   "cell_type": "code",
   "execution_count": 7,
   "id": "8a003f3b",
   "metadata": {},
   "outputs": [],
   "source": [
    "data = pd.DataFrame({'Shapley': shapley, 'Nucleolus': nucleolus, 'Cost Gap': tau, 'Least Core': epsilon})"
   ]
  },
  {
   "cell_type": "code",
   "execution_count": 8,
   "id": "1d284b93",
   "metadata": {},
   "outputs": [
    {
     "data": {
      "text/html": [
       "<div>\n",
       "<style scoped>\n",
       "    .dataframe tbody tr th:only-of-type {\n",
       "        vertical-align: middle;\n",
       "    }\n",
       "\n",
       "    .dataframe tbody tr th {\n",
       "        vertical-align: top;\n",
       "    }\n",
       "\n",
       "    .dataframe thead th {\n",
       "        text-align: right;\n",
       "    }\n",
       "</style>\n",
       "<table border=\"1\" class=\"dataframe\">\n",
       "  <thead>\n",
       "    <tr style=\"text-align: right;\">\n",
       "      <th></th>\n",
       "      <th>Shapley</th>\n",
       "      <th>Nucleolus</th>\n",
       "      <th>Cost Gap</th>\n",
       "      <th>Least Core</th>\n",
       "    </tr>\n",
       "  </thead>\n",
       "  <tbody>\n",
       "    <tr>\n",
       "      <th>0</th>\n",
       "      <td>0.159989</td>\n",
       "      <td>0.077303</td>\n",
       "      <td>0.077303</td>\n",
       "      <td>0.077303</td>\n",
       "    </tr>\n",
       "    <tr>\n",
       "      <th>1</th>\n",
       "      <td>0.152007</td>\n",
       "      <td>0.061340</td>\n",
       "      <td>0.061340</td>\n",
       "      <td>0.061340</td>\n",
       "    </tr>\n",
       "    <tr>\n",
       "      <th>2</th>\n",
       "      <td>0.416027</td>\n",
       "      <td>0.589380</td>\n",
       "      <td>0.589380</td>\n",
       "      <td>0.589380</td>\n",
       "    </tr>\n",
       "  </tbody>\n",
       "</table>\n",
       "</div>"
      ],
      "text/plain": [
       "    Shapley  Nucleolus  Cost Gap  Least Core\n",
       "0  0.159989   0.077303  0.077303    0.077303\n",
       "1  0.152007   0.061340  0.061340    0.061340\n",
       "2  0.416027   0.589380  0.589380    0.589380"
      ]
     },
     "execution_count": 8,
     "metadata": {},
     "output_type": "execute_result"
    }
   ],
   "source": [
    "data"
   ]
  },
  {
   "cell_type": "code",
   "execution_count": null,
   "id": "471de306",
   "metadata": {},
   "outputs": [],
   "source": []
  }
 ],
 "metadata": {
  "kernelspec": {
   "display_name": "Python 3 (ipykernel)",
   "language": "python",
   "name": "python3"
  },
  "language_info": {
   "codemirror_mode": {
    "name": "ipython",
    "version": 3
   },
   "file_extension": ".py",
   "mimetype": "text/x-python",
   "name": "python",
   "nbconvert_exporter": "python",
   "pygments_lexer": "ipython3",
   "version": "3.9.16"
  }
 },
 "nbformat": 4,
 "nbformat_minor": 5
}
